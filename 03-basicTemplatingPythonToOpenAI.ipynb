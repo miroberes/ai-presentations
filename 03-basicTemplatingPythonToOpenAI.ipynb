{
 "cells": [
  {
   "cell_type": "code",
   "execution_count": null,
   "id": "1c73c1d8-4a2d-4c8b-9e1d-0e2d53537a1f",
   "metadata": {
    "editable": true,
    "slideshow": {
     "slide_type": ""
    },
    "tags": []
   },
   "outputs": [],
   "source": [
    "import os\n",
    "import requests\n",
    "import json\n",
    "\n",
    "# === Set up the OpenAI API credentials and URL ===\n",
    "API_KEY = os.environ[\"OPENAI_API_KEY\"]\n",
    "API_URL = \"https://api.openai.com/v1/responses\"\n",
    "\n",
    "# === Define headers for API request ===\n",
    "headers = {\n",
    "    \"Content-Type\": \"application/json\",\n",
    "    \"Authorization\": f\"Bearer {API_KEY}\",\n",
    "}"
   ]
  },
  {
   "cell_type": "code",
   "execution_count": null,
   "id": "e0140716-d1cf-431b-9202-7108ea15f048",
   "metadata": {
    "editable": true,
    "slideshow": {
     "slide_type": ""
    },
    "tags": []
   },
   "outputs": [],
   "source": [
    "# === Create a prompt, filling the string template dynamically ===\n",
    "def build_prompt(topic):\n",
    "\n",
    "    # === Using basic string concatenation ===\n",
    "    # return \"Think about the \" + topic + \". Tell me a joke about the \" + topic + \".\"\n",
    "    \n",
    "    # === Using variable substitutions ===\n",
    "    \n",
    "    # === string formatting with .format() ===\n",
    "    return \"Think about the {topic}. Tell me a joke about the {topic}.\".format(topic=topic)\n",
    "\n",
    "    # formatted_string_template = \"Think about the {topic}. Tell me a joke about the {topic}.\"\n",
    "    # return formatted_string_template.format(topic=topic)\n",
    "\n",
    "\n",
    "    # === String formatting with f-strings ===\n",
    "    return f\"Think about the {topic}. Tell me a joke about the {topic}.\"\n",
    "\n",
    "\n",
    "# === Ask user for the topic ===\n",
    "topic = input(\"I will tell you a joke about: \")\n",
    "\n",
    "# === Build prompt ===\n",
    "prompt = build_prompt(topic)\n",
    "print(prompt)"
   ]
  },
  {
   "cell_type": "markdown",
   "id": "36ec1dc0-d100-410f-97b0-b54f4232496f",
   "metadata": {},
   "source": [
    "```java\n",
    "// Dynamic string creation (string templating) in java\n",
    "private String buildPrompt(String topic) {\n",
    "\n",
    "    /*\n",
    "     Using concatenation to build the prompt.\n",
    "     return \"Think about the \" + topic + \". Tell me a joke about the \" + topic + \".\";\n",
    "     */\n",
    "\n",
    "    /*\n",
    "     Using basic Java string formatting (printf style).\n",
    "     return String.format(\"Think about the %s. Tell me a joke about the %s.\", topic, topic);\n",
    "     */\n",
    "\n",
    "    /*\n",
    "     Using StringBuilder to build the prompt.\n",
    "     StringBuilder sb = new StringBuilder();\n",
    "     sb.append(\"Think about the \").append(topic);\n",
    "     sb.append(\". Tell me a joke about the \").append(topic).append(\".\");\n",
    "     return sb.toString();\n",
    "     */\n",
    "\n",
    "    /*\n",
    "     Using Text Blocks (Java 15+) with String.format.\n",
    "     String template = \"\"\"\n",
    "         Think about the %s.\n",
    "         Tell me a joke about the %s.\n",
    "         \"\"\";\n",
    "     return String.format(template, topic, topic);\n",
    "     */\n",
    "\n",
    "    /*\n",
    "     Java 21 introduced template expressions (preview feature).\n",
    "     */\n",
    "    return STR.\"Think about the \\{topic}. Tell me a joke about the \\{topic}.\";\n",
    "}"
   ]
  },
  {
   "cell_type": "code",
   "execution_count": null,
   "id": "34a34140-8896-4983-b8b6-600e9448c48d",
   "metadata": {},
   "outputs": [],
   "source": [
    "# === Define the request body ===\n",
    "sdata = {\n",
    "    \"model\": \"gpt-4o-mini\",\n",
    "    \"input\": [\n",
    "        {\"role\": \"system\", \"content\": \"You are a standup comedian.\"},\n",
    "        {\"role\": \"user\", \"content\": prompt}\n",
    "    ],\n",
    "}\n",
    "\n",
    "# === Send POST request ===\n",
    "response = requests.post(API_URL, headers=headers, data=json.dumps(data))\n",
    "\n",
    "# === Parse and print the response ===\n",
    "if response.status_code == 200:\n",
    "    result = response.json()\n",
    "    print(result[\"output\"][0][\"content\"][0][\"text\"])\n",
    "    print(json.dumps(result, indent=4))\n",
    "else:\n",
    "    print(f\"Request failed: {response.status_code}\")\n",
    "    print(response.text)"
   ]
  },
  {
   "cell_type": "code",
   "execution_count": null,
   "id": "2d04bab0-8456-4502-abd0-1b90903b7581",
   "metadata": {},
   "outputs": [],
   "source": []
  }
 ],
 "metadata": {
  "kernelspec": {
   "display_name": "Python 3 (ipykernel)",
   "language": "python",
   "name": "python3"
  },
  "language_info": {
   "codemirror_mode": {
    "name": "ipython",
    "version": 3
   },
   "file_extension": ".py",
   "mimetype": "text/x-python",
   "name": "python",
   "nbconvert_exporter": "python",
   "pygments_lexer": "ipython3",
   "version": "3.10.12"
  }
 },
 "nbformat": 4,
 "nbformat_minor": 5
}

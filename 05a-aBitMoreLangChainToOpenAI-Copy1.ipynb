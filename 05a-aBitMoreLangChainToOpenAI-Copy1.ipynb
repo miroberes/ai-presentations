{
 "cells": [
  {
   "cell_type": "code",
   "execution_count": 2,
   "id": "8d340b6a-b539-4883-a2d4-1dcadbef17cb",
   "metadata": {
    "editable": true,
    "slideshow": {
     "slide_type": ""
    },
    "tags": []
   },
   "outputs": [],
   "source": [
    "import os\n",
    "import requests\n",
    "import json\n",
    "import logging\n",
    "\n",
    "from langchain.prompts import PromptTemplate\n",
    "from langchain_openai import ChatOpenAI\n",
    "\n",
    "# === Set up the OpenAI API credentials and URL ===\n",
    "API_KEY = os.environ[\"OPENAI_API_KEY\"]\n",
    "\n",
    "# Set up logging for OpenAI API HTTP requests\n",
    "# logging.basicConfig(level=logging.DEBUG)\n",
    "# logger = logging.getLogger(\"openai\")\n",
    "# logger.setLevel(logging.DEBUG)"
   ]
  },
  {
   "cell_type": "code",
   "execution_count": 3,
   "id": "305b29f8-327d-4533-8215-37239bfef2ee",
   "metadata": {
    "editable": true,
    "slideshow": {
     "slide_type": ""
    },
    "tags": []
   },
   "outputs": [
    {
     "name": "stdin",
     "output_type": "stream",
     "text": [
      "What should I tell you a joke about:  namibi desert\n"
     ]
    },
    {
     "name": "stdout",
     "output_type": "stream",
     "text": [
      "Why don’t secrets last long in the Namib Desert?\n",
      "\n",
      "Because the dunes always have a way of drifting!\n",
      "[\n",
      "    {\n",
      "        \"type\": \"text\",\n",
      "        \"text\": \"Why don\\u2019t secrets last long in the Namib Desert?\\n\\nBecause the dunes always have a way of drifting!\",\n",
      "        \"annotations\": []\n",
      "    }\n",
      "]\n"
     ]
    }
   ],
   "source": [
    "# === Set up the LLM model ===\n",
    "chat_model = ChatOpenAI(\n",
    "    model=\"gpt-4o-mini\",\n",
    "    api_key=API_KEY,\n",
    "    use_responses_api=True  # Enable Responses API (LangChain-specific param)\n",
    ")\n",
    "\n",
    "# === Create a prompt template using LangChain ===\n",
    "joke_prompt_template = PromptTemplate.from_template(\"Think about the {topic}. Tell me a joke about the {topic}.\")\n",
    "\n",
    "# === Build prompt using LangChain template, chain it with the chat model\n",
    "def generate_text(topic):\n",
    "\n",
    "    # Create a dictionary to be passed through the chain\n",
    "    topic_dict = {\"topic\": topic}\n",
    "\n",
    "    chain = joke_prompt_template | chat_model\n",
    "    \n",
    "    response = chain.invoke(topic_dict)\n",
    "\n",
    "    return response.content\n",
    "\n",
    "# === Ask user for the topic ===\n",
    "joke_topic = input(\"What should I tell you a joke about: \")\n",
    "\n",
    "# === Get the joke from the LLM ===\n",
    "response = generate_text(joke_topic)\n",
    "\n",
    "# === Print the joke ===\n",
    "print(response[0][\"text\"])\n",
    "print(json.dumps(response, indent=4))"
   ]
  },
  {
   "cell_type": "code",
   "execution_count": 4,
   "id": "9f6ac2ad-5e29-47c2-b1ba-467984ce6662",
   "metadata": {},
   "outputs": [
    {
     "ename": "NameError",
     "evalue": "name 'llm' is not defined",
     "output_type": "error",
     "traceback": [
      "\u001b[0;31m---------------------------------------------------------------------------\u001b[0m",
      "\u001b[0;31mNameError\u001b[0m                                 Traceback (most recent call last)",
      "Cell \u001b[0;32mIn[4], line 2\u001b[0m\n\u001b[1;32m      1\u001b[0m \u001b[38;5;66;03m# Example 1: Basic usage with a string input\u001b[39;00m\n\u001b[0;32m----> 2\u001b[0m response1 \u001b[38;5;241m=\u001b[39m \u001b[43mllm\u001b[49m\u001b[38;5;241m.\u001b[39minvoke(\u001b[38;5;124m\"\u001b[39m\u001b[38;5;124mWhat is the capital of France?\u001b[39m\u001b[38;5;124m\"\u001b[39m)\n\u001b[1;32m      3\u001b[0m \u001b[38;5;28mprint\u001b[39m(\u001b[38;5;124m\"\u001b[39m\u001b[38;5;124mExample 1 (String input):\u001b[39m\u001b[38;5;124m\"\u001b[39m)\n\u001b[1;32m      4\u001b[0m \u001b[38;5;28mprint\u001b[39m(response1)\n",
      "\u001b[0;31mNameError\u001b[0m: name 'llm' is not defined"
     ]
    }
   ],
   "source": [
    "\n",
    "\n",
    "# Example 1: Basic usage with a string input\n",
    "response1 = llm.invoke(\"What is the capital of France?\")\n",
    "print(\"Example 1 (String input):\")\n",
    "print(response1)\n",
    "print(\"\\n\" + \"-\"*50 + \"\\n\")\n",
    "\n",
    "# Example 2: Using a list of messages\n",
    "messages = [\n",
    "    SystemMessage(content=\"You are a helpful assistant.\"),\n",
    "    HumanMessage(content=\"What is the capital of France?\")\n",
    "]\n",
    "response2 = llm.invoke(messages)\n",
    "print(\"Example 2 (Messages input):\")\n",
    "print(response2)\n",
    "print(\"\\n\" + \"-\"*50 + \"\\n\")\n",
    "\n",
    "# Example 3: Using a prompt template\n",
    "from langchain.prompts import PromptTemplate\n",
    "template = PromptTemplate.from_template(\"Tell me about the history of {country}\")\n",
    "prompt_value = template.format_prompt(country=\"Japan\")\n",
    "response3 = llm.invoke(prompt_value)\n",
    "print(\"Example 3 (PromptValue input):\")\n",
    "print(response3)\n",
    "print(\"\\n\" + \"-\"*50 + \"\\n\")\n",
    "\n",
    "# Example 4: Using a sequence of strings\n",
    "sequence_input = [\"Tell me about\", \"the solar system\"]\n",
    "response4 = llm.invoke(sequence_input)\n",
    "print(\"Example 4 (Sequence of strings):\")\n",
    "print(response4)\n",
    "print(\"\\n\" + \"-\"*50 + \"\\n\")\n",
    "\n",
    "# Example 5: Using a dictionary input\n",
    "dict_input = {\"role\": \"user\", \"content\": \"What are the main components of a computer?\"}\n",
    "response5 = llm.invoke(dict_input)\n",
    "print(\"Example 5 (Dictionary input):\")\n",
    "print(response5)\n",
    "print(\"\\n\" + \"-\"*50 + \"\\n\")\n",
    "\n",
    "# Example 6: Using with RunnableConfig for tracing\n",
    "config = RunnableConfig(\n",
    "    tags=[\"education\", \"geography\"],\n",
    "    metadata={\"session_id\": \"user123\", \"query_type\": \"factual\"}\n",
    ")\n",
    "response6 = llm.invoke(\"List 3 largest countries by area\", config=config)\n",
    "print(\"Example 6 (With RunnableConfig):\")\n",
    "print(response6)\n",
    "print(\"\\n\" + \"-\"*50 + \"\\n\")\n",
    "\n",
    "# Example 7: Using the stop parameter\n",
    "response7 = llm.invoke(\n",
    "    \"Count from 1 to 10:\", \n",
    "    stop=[\"5\"]  # This will stop generation when \"5\" is encountered\n",
    ")\n",
    "print(\"Example 7 (With stop parameter):\")\n",
    "print(response7)\n",
    "print(\"\\n\" + \"-\"*50 + \"\\n\")\n",
    "\n",
    "# Example 8: Using additional kwargs\n",
    "response8 = llm.invoke(\n",
    "    \"Write a short story about a robot:\",\n",
    "    max_tokens=100,  # Additional parameter passed to the underlying API\n",
    "    presence_penalty=0.6\n",
    ")\n",
    "print(\"Example 8 (With additional kwargs):\")\n",
    "print(response8)\n",
    "print(\"\\n\" + \"-\"*50 + \"\\n\")\n",
    "\n",
    "# Example 9: Combining multiple parameter types\n",
    "response9 = llm.invoke(\n",
    "    \"Explain quantum computing in simple terms:\",\n",
    "    config=RunnableConfig(tags=[\"science\", \"education\"]),\n",
    "    stop=[\"In conclusion\"],\n",
    "    temperature=0.3,  # Override the default temperature\n",
    "    frequency_penalty=0.5\n",
    ")\n",
    "print(\"Example 9 (Combined parameters):\")\n",
    "print(response9)"
   ]
  },
  {
   "cell_type": "code",
   "execution_count": null,
   "id": "c96b0de2-6736-4d66-8a11-642238456b39",
   "metadata": {},
   "outputs": [],
   "source": []
  }
 ],
 "metadata": {
  "kernelspec": {
   "display_name": "Python 3 (ipykernel)",
   "language": "python",
   "name": "python3"
  },
  "language_info": {
   "codemirror_mode": {
    "name": "ipython",
    "version": 3
   },
   "file_extension": ".py",
   "mimetype": "text/x-python",
   "name": "python",
   "nbconvert_exporter": "python",
   "pygments_lexer": "ipython3",
   "version": "3.10.12"
  }
 },
 "nbformat": 4,
 "nbformat_minor": 5
}

{
 "cells": [
  {
   "cell_type": "code",
   "execution_count": null,
   "id": "8d340b6a-b539-4883-a2d4-1dcadbef17cb",
   "metadata": {},
   "outputs": [],
   "source": [
    "import os\n",
    "import requests\n",
    "import json\n",
    "import logging\n",
    "\n",
    "from langchain.prompts import PromptTemplate\n",
    "from langchain_openai import ChatOpenAI\n",
    "\n",
    "# === Set up the OpenAI API credentials and URL ===\n",
    "API_KEY = os.environ[\"OPENAI_API_KEY\"]\n",
    "\n",
    "# Set up logging for OpenAI API HTTP requests\n",
    "# logging.basicConfig(level=logging.DEBUG)\n",
    "# logger = logging.getLogger(\"openai\")\n",
    "# logger.setLevel(logging.DEBUG)"
   ]
  },
  {
   "cell_type": "code",
   "execution_count": null,
   "id": "305b29f8-327d-4533-8215-37239bfef2ee",
   "metadata": {
    "editable": true,
    "slideshow": {
     "slide_type": ""
    },
    "tags": []
   },
   "outputs": [],
   "source": [
    "# === Set up the LLM model ===\n",
    "chat_model = ChatOpenAI(\n",
    "    model=\"gpt-4o-mini\",\n",
    "    api_key=API_KEY,\n",
    "    use_responses_api=True  # Enable Responses API (LangChain-specific param)\n",
    ")\n",
    "\n",
    "# === Create a prompt template using LangChain ===\n",
    "joke_prompt_template = PromptTemplate.from_template(\"Think about the {topic}. Tell me a joke about the {topic}.\")\n",
    "\n",
    "# === Build prompt using LangChain template, chain it with the chat model\n",
    "def generate_text(topic):\n",
    "\n",
    "    # Create a dictionary to be passed through the chain\n",
    "    topic_dict = {\"topic\": topic}\n",
    "\n",
    "    chain = joke_prompt_template | chat_model\n",
    "    \n",
    "    response = chain.invoke(topic_dict)\n",
    "\n",
    "    return response.content\n",
    "\n",
    "# === Ask user for the topic ===\n",
    "joke_topic = input(\"What should I tell you a joke about: \")\n",
    "\n",
    "# === Get the joke from the LLM ===\n",
    "response = generate_text(joke_topic)\n",
    "\n",
    "# === Print the joke ===\n",
    "print(response[0][\"text\"])\n",
    "print(json.dumps(response, indent=4))"
   ]
  }
 ],
 "metadata": {
  "kernelspec": {
   "display_name": "Python 3 (ipykernel)",
   "language": "python",
   "name": "python3"
  },
  "language_info": {
   "codemirror_mode": {
    "name": "ipython",
    "version": 3
   },
   "file_extension": ".py",
   "mimetype": "text/x-python",
   "name": "python",
   "nbconvert_exporter": "python",
   "pygments_lexer": "ipython3",
   "version": "3.10.12"
  }
 },
 "nbformat": 4,
 "nbformat_minor": 5
}

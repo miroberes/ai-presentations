{
 "cells": [
  {
   "cell_type": "code",
   "execution_count": 4,
   "id": "8d340b6a-b539-4883-a2d4-1dcadbef17cb",
   "metadata": {},
   "outputs": [],
   "source": [
    "import os\n",
    "import requests\n",
    "import json\n",
    "from langchain.prompts import PromptTemplate\n",
    "from langchain_openai import ChatOpenAI\n",
    "\n",
    "# === Set up the OpenAI API credentials and URL ===\n",
    "API_KEY = os.environ[\"OPENAI_API_KEY\"]\n",
    "API_URL = \"https://api.openai.com/v1/responses\"\n",
    "\n",
    "# === Define headers for API request ===\n",
    "headers = {\n",
    "    \"Content-Type\": \"application/json\",\n",
    "    \"Authorization\": f\"Bearer {API_KEY}\",\n",
    "}"
   ]
  },
  {
   "cell_type": "code",
   "execution_count": 5,
   "id": "305b29f8-327d-4533-8215-37239bfef2ee",
   "metadata": {},
   "outputs": [
    {
     "name": "stdin",
     "output_type": "stream",
     "text": [
      "What should I tell you a joke about:  a plane\n"
     ]
    },
    {
     "name": "stdout",
     "output_type": "stream",
     "text": [
      "content='Why did the airplane get sent to its room?\\n\\nBecause it had a bad altitude!' additional_kwargs={'refusal': None} response_metadata={'token_usage': {'completion_tokens': 18, 'prompt_tokens': 22, 'total_tokens': 40, 'completion_tokens_details': {'accepted_prediction_tokens': 0, 'audio_tokens': 0, 'reasoning_tokens': 0, 'rejected_prediction_tokens': 0}, 'prompt_tokens_details': {'audio_tokens': 0, 'cached_tokens': 0}}, 'model_name': 'gpt-4o-mini-2024-07-18', 'system_fingerprint': 'fp_b376dfbbd5', 'finish_reason': 'stop', 'logprobs': None} id='run-2b5fcd64-f4ea-4893-bbd7-a2584f2d4f01-0' usage_metadata={'input_tokens': 22, 'output_tokens': 18, 'total_tokens': 40, 'input_token_details': {'audio': 0, 'cache_read': 0}, 'output_token_details': {'audio': 0, 'reasoning': 0}}\n"
     ]
    }
   ],
   "source": [
    "# === Create a prompt template using LangChain ===\n",
    "joke_prompt_template = PromptTemplate.from_template(\"Think about the {topic}. Tell me a joke about the {topic}.\")\n",
    "\n",
    "\n",
    "# === Set up the LLM model\n",
    "chat_model = ChatOpenAI(model=\"gpt-4o-mini\", openai_api_key=API_KEY)\n",
    "\n",
    "# === Build prompt using LangChain template, chain it with the LLM\n",
    "def generate_joke(topic):\n",
    "    joke_chain = joke_prompt_template | chat_model\n",
    "    \n",
    "    return joke_chain.invoke({\"topic\": topic})\n",
    "\n",
    "# === Ask user for the topic ===\n",
    "joke_topic = input(\"What should I tell you a joke about: \")\n",
    "\n",
    "# === Get the joke from the LLM ===\n",
    "joke_text = generate_joke(joke_topic)\n",
    "\n",
    "# === Print the joke ===\n",
    "print(joke_text)"
   ]
  },
  {
   "cell_type": "code",
   "execution_count": null,
   "id": "a96ab120-9e2f-402c-83fe-00d7dea0630a",
   "metadata": {},
   "outputs": [],
   "source": []
  }
 ],
 "metadata": {
  "kernelspec": {
   "display_name": "Python 3 (ipykernel)",
   "language": "python",
   "name": "python3"
  },
  "language_info": {
   "codemirror_mode": {
    "name": "ipython",
    "version": 3
   },
   "file_extension": ".py",
   "mimetype": "text/x-python",
   "name": "python",
   "nbconvert_exporter": "python",
   "pygments_lexer": "ipython3",
   "version": "3.10.12"
  }
 },
 "nbformat": 4,
 "nbformat_minor": 5
}

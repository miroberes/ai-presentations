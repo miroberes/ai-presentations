{
 "cells": [
  {
   "cell_type": "code",
   "execution_count": null,
   "id": "8d340b6a-b539-4883-a2d4-1dcadbef17cb",
   "metadata": {},
   "outputs": [],
   "source": [
    "import os\n",
    "import logging\n",
    "\n",
    "from langchain.prompts import PromptTemplate\n",
    "from langchain_openai import OpenAI\n",
    "\n",
    "# === Set up the OpenAI API credentials ===\n",
    "API_KEY = os.environ[\"OPENAI_API_KEY\"]\n",
    "\n",
    "# Set up logging for OpenAI API HTTP requests\n",
    "# logging.basicConfig(level=logging.DEBUG)\n",
    "# logger = logging.getLogger(\"openai\")\n",
    "# logger.setLevel(logging.DEBUG)"
   ]
  },
  {
   "cell_type": "code",
   "execution_count": null,
   "id": "4af7a753-a444-4f1b-8eb3-7c2a7d5bdd1d",
   "metadata": {
    "editable": true,
    "slideshow": {
     "slide_type": ""
    },
    "tags": []
   },
   "outputs": [],
   "source": [
    "model = OpenAI(\n",
    "    # model=\"gpt-3.5-turbo-instruct\",\n",
    "    # api_key=API_KEY,\n",
    ")\n",
    "\n",
    "text = \"What would be a good company name for a company that makes toys for kids?\"\n",
    "print (model. invoke (text))"
   ]
  }
 ],
 "metadata": {
  "kernelspec": {
   "display_name": "Python 3 (ipykernel)",
   "language": "python",
   "name": "python3"
  },
  "language_info": {
   "codemirror_mode": {
    "name": "ipython",
    "version": 3
   },
   "file_extension": ".py",
   "mimetype": "text/x-python",
   "name": "python",
   "nbconvert_exporter": "python",
   "pygments_lexer": "ipython3",
   "version": "3.10.12"
  }
 },
 "nbformat": 4,
 "nbformat_minor": 5
}

{
 "cells": [
  {
   "cell_type": "code",
   "execution_count": null,
   "id": "1c73c1d8-4a2d-4c8b-9e1d-0e2d53537a1f",
   "metadata": {
    "editable": true,
    "slideshow": {
     "slide_type": ""
    },
    "tags": []
   },
   "outputs": [],
   "source": [
    "import os\n",
    "import requests\n",
    "import json\n",
    "from langchain.prompts import PromptTemplate\n",
    "from langchain.chat_models import ChatOpenAI\n",
    "\n",
    "# === Set up the OpenAI API credentials and URL ===\n",
    "API_KEY = os.environ[\"OPENAI_API_KEY\"]\n",
    "API_URL = \"https://api.openai.com/v1/completions\"\n",
    "\n",
    "# === Define headers for API request ===\n",
    "headers = {\n",
    "    \"Content-Type\": \"application/json\",\n",
    "    \"Authorization\": f\"Bearer {API_KEY}\",\n",
    "}"
   ]
  },
  {
   "cell_type": "code",
   "execution_count": null,
   "id": "34a34140-8896-4983-b8b6-600e9448c48d",
   "metadata": {},
   "outputs": [],
   "source": [
    "# === Define the request body ===\n",
    "data = {\n",
    "    \"model\": \"gpt-4o-mini\",\n",
    "    \"input\": [\n",
    "        {\"role\": \"system\", \"content\": \"You are a standup comedian.\"},\n",
    "        {\"role\": \"user\", \"content\": \"Tell me a joke about a mouse.\"}\n",
    "    ],\n",
    "}\n",
    "\n",
    "# === Send POST request ===\n",
    "response = requests.post(API_URL, headers=headers, data=json.dumps(data))\n",
    "\n",
    "# === Parse and print the response ===\n",
    "if response.status_code == 200:\n",
    "    result = response.json()\n",
    "    print(result)\n",
    "    print(result[\"output\"][0][\"content\"][0][\"text\"])\n",
    "else:\n",
    "    print(f\"Request failed: {response.status_code}\")\n",
    "    print(response.text)"
   ]
  },
  {
   "cell_type": "code",
   "execution_count": null,
   "id": "ad23db5b-3997-4a2e-a798-37e0f7cbd4a3",
   "metadata": {},
   "outputs": [],
   "source": []
  }
 ],
 "metadata": {
  "kernelspec": {
   "display_name": "Python 3 (ipykernel)",
   "language": "python",
   "name": "python3"
  },
  "language_info": {
   "codemirror_mode": {
    "name": "ipython",
    "version": 3
   },
   "file_extension": ".py",
   "mimetype": "text/x-python",
   "name": "python",
   "nbconvert_exporter": "python",
   "pygments_lexer": "ipython3",
   "version": "3.10.12"
  }
 },
 "nbformat": 4,
 "nbformat_minor": 5
}

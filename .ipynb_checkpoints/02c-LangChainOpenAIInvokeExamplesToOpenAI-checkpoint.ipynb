{
 "cells": [
  {
   "cell_type": "code",
   "execution_count": 1,
   "id": "8d340b6a-b539-4883-a2d4-1dcadbef17cb",
   "metadata": {},
   "outputs": [],
   "source": [
    "import os\n",
    "import requests\n",
    "import json\n",
    "import logging\n",
    "\n",
    "from langchain_openai import OpenAI\n",
    "from langchain.schema import PromptValue, HumanMessage, AIMessage, SystemMessage\n",
    "from langchain.schema.runnable import RunnableConfig\n",
    "from langchain.prompts import PromptTemplate\n",
    "from typing import List, Dict, Any\n",
    "\n",
    "# === Set up the OpenAI API credentials and URL ===\n",
    "API_KEY = os.environ[\"OPENAI_API_KEY\"]\n",
    "\n",
    "# Set up logging for OpenAI API HTTP requests\n",
    "# logging.basicConfig(level=logging.DEBUG)\n",
    "# logger = logging.getLogger(\"openai\")\n",
    "# logger.setLevel(logging.DEBUG)"
   ]
  },
  {
   "cell_type": "code",
   "execution_count": 2,
   "id": "305b29f8-327d-4533-8215-37239bfef2ee",
   "metadata": {
    "editable": true,
    "slideshow": {
     "slide_type": ""
    },
    "tags": []
   },
   "outputs": [],
   "source": [
    "# === Set up the LLM model ===\n",
    "llm = OpenAI(\n",
    "    max_tokens=150,      \n",
    ")\n"
   ]
  },
  {
   "cell_type": "code",
   "execution_count": 3,
   "id": "e58c0c61-e179-42a3-84ca-cb66ae88f8d0",
   "metadata": {
    "editable": true,
    "slideshow": {
     "slide_type": ""
    },
    "tags": []
   },
   "outputs": [
    {
     "name": "stdout",
     "output_type": "stream",
     "text": [
      "Example 1 (String input):\n",
      "\n",
      "\n",
      "Paris\n",
      "\n",
      "--------------------------------------------------\n",
      "\n",
      "Example 2 (Messages input):\n",
      "\n",
      "\n",
      "System: The capital of Italy is Rome.\n",
      "\n",
      "--------------------------------------------------\n",
      "\n"
     ]
    }
   ],
   "source": [
    "# .invoke() docs\n",
    "# https://python.langchain.com/api_reference/openai/llms/langchain_openai.llms.base.OpenAI.html#langchain_openai.llms.base.OpenAI.invoke\n",
    "\n",
    "# Example 1: Basic usage with a string input\n",
    "response1 = llm.invoke(\"What is the capital of France?\")\n",
    "print(\"Example 1 (String input):\")\n",
    "print(response1)\n",
    "print(\"\\n\" + \"-\"*50 + \"\\n\")\n",
    "\n",
    "# Example 2: Using a list of messages\n",
    "messages = [\n",
    "    SystemMessage(content=\"You are a helpful assistant.\"),\n",
    "    HumanMessage(content=\"What is the capital of Italy?\")\n",
    "]\n",
    "response2 = llm.invoke(messages)\n",
    "print(\"Example 2 (Messages input):\")\n",
    "print(response2)\n",
    "print(\"\\n\" + \"-\"*50 + \"\\n\")"
   ]
  },
  {
   "cell_type": "code",
   "execution_count": 4,
   "id": "87f03016-2217-4a7a-b9bf-36b8d4fb01b4",
   "metadata": {},
   "outputs": [
    {
     "name": "stdout",
     "output_type": "stream",
     "text": [
      "Example 3 (PromptValue input):\n",
      "\n",
      "\n",
      "Japan has a long and rich history that dates back thousands of years. The earliest known inhabitants of Japan were the Jomon people, who lived as hunter-gatherers from around 14,000 BC to 300 BC. They are known for their distinctive pottery and clay figurines.\n",
      "\n",
      "Around 300 BC, the Yayoi people migrated to Japan from the Asian mainland, bringing with them new technologies such as rice farming and metalworking. They also introduced a hierarchical social structure and a ruling class.\n",
      "\n",
      "In the 8th century, Japan's first centralized government was established by Emperor Jimmu, who is considered the first emperor of Japan. This marked the beginning of the Yamato period, which lasted until the 12th century and saw the\n",
      "\n",
      "--------------------------------------------------\n",
      "\n",
      "Example 4 (Sequence of strings):\n",
      "\n",
      "\n",
      "The solar system is the collection of planets, moons, and other celestial bodies that orbit around the sun. It is located within the Milky Way galaxy and is estimated to be around 4.6 billion years old. The eight planets in the solar system, in order from the sun, are Mercury, Venus, Earth, Mars, Jupiter, Saturn, Uranus, and Neptune. The four inner planets, Mercury, Venus, Earth, and Mars, are known as the terrestrial planets and are made up mostly of rock and metal. The outer planets, Jupiter, Saturn, Uranus, and Neptune, are known as the gas giants and are mostly composed of gas and ice. The solar system also includes dwarf planets, such as Pluto, as well\n",
      "\n",
      "--------------------------------------------------\n",
      "\n"
     ]
    }
   ],
   "source": [
    "# Example 3: Using a prompt template (PromptTemplate)\n",
    "template = PromptTemplate.from_template(\"Tell me about the history of {country}\")\n",
    "prompt_value = template.format_prompt(country=\"Japan\")\n",
    "response3 = llm.invoke(prompt_value)\n",
    "print(\"Example 3 (PromptValue input):\")\n",
    "print(response3)\n",
    "print(\"\\n\" + \"-\"*50 + \"\\n\")\n",
    "\n",
    "# Example 4: Using a sequence of strings\n",
    "sequence_input = [\"Tell me about\", \"the solar system\"]\n",
    "response4 = llm.invoke(sequence_input)\n",
    "print(\"Example 4 (Sequence of strings):\")\n",
    "print(response4)\n",
    "print(\"\\n\" + \"-\"*50 + \"\\n\")"
   ]
  },
  {
   "cell_type": "code",
   "execution_count": 7,
   "id": "ce8e4a0a-a820-4b46-9ff0-e5c9f21d1285",
   "metadata": {},
   "outputs": [
    {
     "name": "stdout",
     "output_type": "stream",
     "text": [
      "Example 5 (With RunnableConfig):\n",
      "\n",
      "\n",
      "1. Russia\n",
      "2. Canada\n",
      "3. China\n",
      "\n",
      "--------------------------------------------------\n",
      "\n",
      "Example 6 (With stop parameter):\n",
      "\n",
      "\n",
      "1, 2, 3, 4, \n",
      "\n",
      "--------------------------------------------------\n",
      "\n"
     ]
    }
   ],
   "source": [
    "# Example 5: Using with RunnableConfig for tracing\n",
    "config = RunnableConfig(\n",
    "    tags=[\"education\", \"geography\"],\n",
    "    metadata={\"session_id\": \"user123\", \"query_type\": \"factual\"}\n",
    ")\n",
    "response5 = llm.invoke(\"List 3 largest countries by area\", config=config)\n",
    "print(\"Example 5 (With RunnableConfig):\")\n",
    "print(response5)\n",
    "print(\"\\n\" + \"-\"*50 + \"\\n\")\n",
    "\n",
    "# Example 6: Using the stop parameter\n",
    "response6 = llm.invoke(\n",
    "    \"Output numbers sequentially from 1 to 10:\", \n",
    "    stop=[\"5\"]  # This will stop generation when \"5\" is encountered\n",
    ")\n",
    "print(\"Example 6 (With stop parameter):\")\n",
    "print(response6)\n",
    "print(\"\\n\" + \"-\"*50 + \"\\n\")"
   ]
  },
  {
   "cell_type": "code",
   "execution_count": 6,
   "id": "498b94bb-e5f4-4b34-aa17-d6f0829c14dc",
   "metadata": {},
   "outputs": [
    {
     "name": "stdout",
     "output_type": "stream",
     "text": [
      "Example 7 (With additional kwargs):\n",
      "\n",
      "\n",
      "Once upon a time, in a world far into the future, there lived a robot named R-1. He was a special robot, created by a brilliant scientist who wanted to push the boundaries of technology and create a robot that could think and feel like a human.\n",
      "\n",
      "R-1 was unlike any other robot before him. He had a shiny metallic body, with smooth, sleek lines that made him look almost human-like. His eyes were made of bright blue LED lights, and he had a\n",
      "\n",
      "--------------------------------------------------\n",
      "\n",
      "Example 8 (Combined parameters):\n",
      "\n",
      "\n",
      "Quantum computing is a type of computing that uses the principles of quantum mechanics to process information. In traditional computing, information is represented in bits, which can have a value of either 0 or 1. In quantum computing, information is represented in quantum bits, or qubits, which can exist in multiple states at the same time. This allows quantum computers to perform calculations much faster and more efficiently than traditional computers. Instead of processing information one step at a time, quantum computers can process multiple possibilities simultaneously, making them well-suited for solving complex problems that would take traditional computers a very long time to solve.\n"
     ]
    }
   ],
   "source": [
    "# Example 7: Using additional kwargs\n",
    "response7 = llm.invoke(\n",
    "    \"Write a short story about a robot:\",\n",
    "    max_tokens=100,  # Additional parameter passed to the underlying API\n",
    "    presence_penalty=0.6\n",
    ")\n",
    "print(\"Example 7 (With additional kwargs):\")\n",
    "print(response7)\n",
    "print(\"\\n\" + \"-\"*50 + \"\\n\")\n",
    "\n",
    "# Example 8: Combining multiple parameter types\n",
    "response8 = llm.invoke(\n",
    "    \"Explain quantum computing in simple terms:\",\n",
    "    config=RunnableConfig(tags=[\"science\", \"education\"]),\n",
    "    stop=[\"In conclusion\"],\n",
    "    temperature=0.3,  # Override the default temperature\n",
    "    frequency_penalty=0.5\n",
    ")\n",
    "print(\"Example 8 (Combined parameters):\")\n",
    "print(response8)"
   ]
  },
  {
   "cell_type": "code",
   "execution_count": null,
   "id": "c96b0de2-6736-4d66-8a11-642238456b39",
   "metadata": {
    "editable": true,
    "slideshow": {
     "slide_type": ""
    },
    "tags": []
   },
   "outputs": [],
   "source": []
  }
 ],
 "metadata": {
  "kernelspec": {
   "display_name": "Python 3 (ipykernel)",
   "language": "python",
   "name": "python3"
  },
  "language_info": {
   "codemirror_mode": {
    "name": "ipython",
    "version": 3
   },
   "file_extension": ".py",
   "mimetype": "text/x-python",
   "name": "python",
   "nbconvert_exporter": "python",
   "pygments_lexer": "ipython3",
   "version": "3.10.12"
  }
 },
 "nbformat": 4,
 "nbformat_minor": 5
}

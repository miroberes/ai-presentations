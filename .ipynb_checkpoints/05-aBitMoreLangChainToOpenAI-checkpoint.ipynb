{
 "cells": [
  {
   "cell_type": "code",
   "execution_count": 1,
   "id": "8d340b6a-b539-4883-a2d4-1dcadbef17cb",
   "metadata": {},
   "outputs": [],
   "source": [
    "import os\n",
    "import requests\n",
    "import json\n",
    "from langchain.prompts import PromptTemplate\n",
    "from langchain_openai import ChatOpenAI\n",
    "\n",
    "# === Set up the OpenAI API credentials and URL ===\n",
    "API_KEY = os.environ[\"OPENAI_API_KEY\"]\n",
    "API_URL = \"https://api.openai.com/v1/responses\"\n",
    "\n",
    "# === Define headers for API request ===\n",
    "headers = {\n",
    "    \"Content-Type\": \"application/json\",\n",
    "    \"Authorization\": f\"Bearer {API_KEY}\",\n",
    "}"
   ]
  },
  {
   "cell_type": "code",
   "execution_count": 3,
   "id": "305b29f8-327d-4533-8215-37239bfef2ee",
   "metadata": {},
   "outputs": [
    {
     "name": "stdin",
     "output_type": "stream",
     "text": [
      "What should I tell you a joke about:  napoleon\n"
     ]
    },
    {
     "ename": "NameError",
     "evalue": "name 'joke_prompt' is not defined",
     "output_type": "error",
     "traceback": [
      "\u001b[0;31m---------------------------------------------------------------------------\u001b[0m",
      "\u001b[0;31mNameError\u001b[0m                                 Traceback (most recent call last)",
      "Cell \u001b[0;32mIn[3], line 17\u001b[0m\n\u001b[1;32m     14\u001b[0m topic \u001b[38;5;241m=\u001b[39m \u001b[38;5;28minput\u001b[39m(\u001b[38;5;124m\"\u001b[39m\u001b[38;5;124mWhat should I tell you a joke about: \u001b[39m\u001b[38;5;124m\"\u001b[39m)\n\u001b[1;32m     16\u001b[0m \u001b[38;5;66;03m# === Get the joke from the LLM ===\u001b[39;00m\n\u001b[0;32m---> 17\u001b[0m joke \u001b[38;5;241m=\u001b[39m \u001b[43mgenerate_joke\u001b[49m\u001b[43m(\u001b[49m\u001b[43mtopic\u001b[49m\u001b[43m)\u001b[49m\n\u001b[1;32m     19\u001b[0m \u001b[38;5;66;03m# === Print the joke ===\u001b[39;00m\n\u001b[1;32m     20\u001b[0m \u001b[38;5;28mprint\u001b[39m(joke)\n",
      "Cell \u001b[0;32mIn[3], line 10\u001b[0m, in \u001b[0;36mgenerate_joke\u001b[0;34m(topic)\u001b[0m\n\u001b[1;32m      9\u001b[0m \u001b[38;5;28;01mdef\u001b[39;00m\u001b[38;5;250m \u001b[39m\u001b[38;5;21mgenerate_joke\u001b[39m(topic):\n\u001b[0;32m---> 10\u001b[0m     joke_chain \u001b[38;5;241m=\u001b[39m \u001b[43mjoke_prompt\u001b[49m \u001b[38;5;241m|\u001b[39m chat_model\n\u001b[1;32m     11\u001b[0m     \u001b[38;5;28;01mreturn\u001b[39;00m joke_chain\u001b[38;5;241m.\u001b[39minvoke({\u001b[38;5;124m\"\u001b[39m\u001b[38;5;124mtopic\u001b[39m\u001b[38;5;124m\"\u001b[39m: topic})\n",
      "\u001b[0;31mNameError\u001b[0m: name 'joke_prompt' is not defined"
     ]
    }
   ],
   "source": [
    "# === Create a prompt template using LangChain ===\n",
    "joke_prompt_template = PromptTemplate.from_template(\"Think about the {topic}. Tell me a joke about the {topic}.\")\n",
    "\n",
    "\n",
    "# === Set up the LLM model\n",
    "chat_model = ChatOpenAI(model=\"gpt-4o-mini\", openai_api_key=API_KEY)\n",
    "\n",
    "# === Build prompt using LangChain template, chain it with the LLM\n",
    "def generate_joke(topic):\n",
    "    joke_chain = joke_prompt_template | chat_model\n",
    "    \n",
    "    return joke_chain.invoke({\"topic\": topic})\n",
    "\n",
    "# === Ask user for the topic ===\n",
    "joke_topic = input(\"What should I tell you a joke about: \")\n",
    "\n",
    "# === Get the joke from the LLM ===\n",
    "joke_text = generate_joke(joke_topic)\n",
    "\n",
    "# === Print the joke ===\n",
    "print(joke_text)"
   ]
  },
  {
   "cell_type": "code",
   "execution_count": null,
   "id": "a96ab120-9e2f-402c-83fe-00d7dea0630a",
   "metadata": {},
   "outputs": [],
   "source": []
  }
 ],
 "metadata": {
  "kernelspec": {
   "display_name": "Python 3 (ipykernel)",
   "language": "python",
   "name": "python3"
  },
  "language_info": {
   "codemirror_mode": {
    "name": "ipython",
    "version": 3
   },
   "file_extension": ".py",
   "mimetype": "text/x-python",
   "name": "python",
   "nbconvert_exporter": "python",
   "pygments_lexer": "ipython3",
   "version": "3.10.12"
  }
 },
 "nbformat": 4,
 "nbformat_minor": 5
}

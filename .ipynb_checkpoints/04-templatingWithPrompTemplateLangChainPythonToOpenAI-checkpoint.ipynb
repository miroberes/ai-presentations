{
 "cells": [
  {
   "cell_type": "code",
   "execution_count": 1,
   "id": "4d0f8adc-c0b0-424c-a1b7-47276bc55595",
   "metadata": {
    "editable": true,
    "slideshow": {
     "slide_type": ""
    },
    "tags": []
   },
   "outputs": [],
   "source": [
    "import os\n",
    "import requests\n",
    "import json\n",
    "from langchain.prompts import PromptTemplate\n",
    "\n",
    "# === Set up the OpenAI API credentials and URL ===\n",
    "API_KEY = os.environ[\"OPENAI_API_KEY\"]\n",
    "API_URL = \"https://api.openai.com/v1/responses\"\n",
    "\n",
    "# === Define headers for API request ===\n",
    "headers = {\n",
    "    \"Content-Type\": \"application/json\",\n",
    "    \"Authorization\": f\"Bearer {API_KEY}\",\n",
    "}"
   ]
  },
  {
   "cell_type": "code",
   "execution_count": 3,
   "id": "116125d6-b3ee-459c-9466-4d5f0cabf6e0",
   "metadata": {
    "editable": true,
    "scrolled": true,
    "slideshow": {
     "slide_type": ""
    },
    "tags": []
   },
   "outputs": [
    {
     "name": "stdout",
     "output_type": "stream",
     "text": [
      "input_variables=['topic'] input_types={} partial_variables={} template='Think about the {topic}. Tell me a joke about the {topic}.' \n",
      "\n",
      "<class 'langchain_core.prompts.prompt.PromptTemplate'>\n"
     ]
    },
    {
     "name": "stdin",
     "output_type": "stream",
     "text": [
      "I will tell you a joke about:  donald duck\n"
     ]
    }
   ],
   "source": [
    "# === Create a prompt template using LangChain ===\n",
    "# instead of f-strings or .format() for better structure and reuse \n",
    "\n",
    "# === not recommended ===\n",
    "# prompt_template = PromptTemplate(\n",
    "#     input_variables=[\"topic\"],\n",
    "#     template=\"Think about the {topic}. Tell me a joke about the {topic}.\"\n",
    "# )\n",
    "\n",
    "# === recommended ===\n",
    "prompt_template = PromptTemplate.from_template(\"Think about the {topic}. Tell me a joke about the {topic}.\")\n",
    "\n",
    "print(prompt_template, \"\\n\")\n",
    "print(type(prompt_template))\n",
    "\n",
    "# === Ask user for the topic ===\n",
    "topic = input(\"I will tell you a joke about: \")\n",
    "\n",
    "# === Build prompt using LangChain template ===\n",
    "prompt = prompt_template.format(topic=topic)"
   ]
  },
  {
   "cell_type": "code",
   "execution_count": 4,
   "id": "c1742517-765e-4ff3-8dd3-01573607f8e0",
   "metadata": {
    "editable": true,
    "scrolled": true,
    "slideshow": {
     "slide_type": ""
    },
    "tags": []
   },
   "outputs": [
    {
     "name": "stdout",
     "output_type": "stream",
     "text": [
      "Why did Donald Duck become a successful musician?\n",
      "\n",
      "Because he always knows how to quack out a tune!\n",
      "{\n",
      "    \"id\": \"resp_67e951d46c608191827ed967b70832440a81742900f82735\",\n",
      "    \"object\": \"response\",\n",
      "    \"created_at\": 1743344084,\n",
      "    \"status\": \"completed\",\n",
      "    \"error\": null,\n",
      "    \"incomplete_details\": null,\n",
      "    \"instructions\": null,\n",
      "    \"max_output_tokens\": null,\n",
      "    \"model\": \"gpt-4o-mini-2024-07-18\",\n",
      "    \"output\": [\n",
      "        {\n",
      "            \"type\": \"message\",\n",
      "            \"id\": \"msg_67e951d5e7fc8191ab5d7b58205731550a81742900f82735\",\n",
      "            \"status\": \"completed\",\n",
      "            \"role\": \"assistant\",\n",
      "            \"content\": [\n",
      "                {\n",
      "                    \"type\": \"output_text\",\n",
      "                    \"text\": \"Why did Donald Duck become a successful musician?\\n\\nBecause he always knows how to quack out a tune!\",\n",
      "                    \"annotations\": []\n",
      "                }\n",
      "            ]\n",
      "        }\n",
      "    ],\n",
      "    \"parallel_tool_calls\": true,\n",
      "    \"previous_response_id\": null,\n",
      "    \"reasoning\": {\n",
      "        \"effort\": null,\n",
      "        \"generate_summary\": null\n",
      "    },\n",
      "    \"store\": true,\n",
      "    \"temperature\": 1.0,\n",
      "    \"text\": {\n",
      "        \"format\": {\n",
      "            \"type\": \"text\"\n",
      "        }\n",
      "    },\n",
      "    \"tool_choice\": \"auto\",\n",
      "    \"tools\": [],\n",
      "    \"top_p\": 1.0,\n",
      "    \"truncation\": \"disabled\",\n",
      "    \"usage\": {\n",
      "        \"input_tokens\": 35,\n",
      "        \"input_tokens_details\": {\n",
      "            \"cached_tokens\": 0\n",
      "        },\n",
      "        \"output_tokens\": 22,\n",
      "        \"output_tokens_details\": {\n",
      "            \"reasoning_tokens\": 0\n",
      "        },\n",
      "        \"total_tokens\": 57\n",
      "    },\n",
      "    \"user\": null,\n",
      "    \"metadata\": {}\n",
      "}\n"
     ]
    }
   ],
   "source": [
    "# === Define the request body ===\n",
    "data = {\n",
    "    \"model\": \"gpt-4o-mini\",\n",
    "    \"input\": [\n",
    "        {\"role\": \"system\", \"content\": \"You are a standup comedian.\"},\n",
    "        {\"role\": \"user\", \"content\": prompt}\n",
    "    ],\n",
    "}\n",
    "\n",
    "# === Send POST request ===\n",
    "response = requests.post(API_URL, headers=headers, data=json.dumps(data))\n",
    "\n",
    "# === Parse and print the response ===\n",
    "if response.status_code == 200:\n",
    "    result = response.json()\n",
    "    print(result[\"output\"][0][\"content\"][0][\"text\"])\n",
    "    print(json.dumps(result, indent=4))\n",
    "else:\n",
    "    print(f\"Request failed: {response.status_code}\")\n",
    "    print(response.text)"
   ]
  },
  {
   "cell_type": "code",
   "execution_count": null,
   "id": "c56c8d84-d714-443e-ac30-aa59ea3c37b4",
   "metadata": {},
   "outputs": [],
   "source": []
  }
 ],
 "metadata": {
  "kernelspec": {
   "display_name": "Python 3 (ipykernel)",
   "language": "python",
   "name": "python3"
  },
  "language_info": {
   "codemirror_mode": {
    "name": "ipython",
    "version": 3
   },
   "file_extension": ".py",
   "mimetype": "text/x-python",
   "name": "python",
   "nbconvert_exporter": "python",
   "pygments_lexer": "ipython3",
   "version": "3.10.12"
  }
 },
 "nbformat": 4,
 "nbformat_minor": 5
}

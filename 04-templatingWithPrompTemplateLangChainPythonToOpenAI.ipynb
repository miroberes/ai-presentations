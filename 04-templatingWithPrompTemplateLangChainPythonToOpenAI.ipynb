{
 "cells": [
  {
   "cell_type": "code",
   "execution_count": null,
   "id": "4d0f8adc-c0b0-424c-a1b7-47276bc55595",
   "metadata": {
    "editable": true,
    "slideshow": {
     "slide_type": ""
    },
    "tags": []
   },
   "outputs": [],
   "source": [
    "import os\n",
    "import requests\n",
    "import json\n",
    "from langchain.prompts import PromptTemplate\n",
    "\n",
    "# === Set up the OpenAI API credentials and URL ===\n",
    "API_KEY = os.environ[\"OPENAI_API_KEY\"]\n",
    "API_URL = \"https://api.openai.com/v1/responses\"\n",
    "\n",
    "# === Define headers for API request ===\n",
    "headers = {\n",
    "    \"Content-Type\": \"application/json\",\n",
    "    \"Authorization\": f\"Bearer {API_KEY}\",\n",
    "}"
   ]
  },
  {
   "cell_type": "code",
   "execution_count": null,
   "id": "116125d6-b3ee-459c-9466-4d5f0cabf6e0",
   "metadata": {
    "editable": true,
    "scrolled": true,
    "slideshow": {
     "slide_type": ""
    },
    "tags": []
   },
   "outputs": [],
   "source": [
    "# === Create a prompt template using LangChain ===\n",
    "# instead of f-strings or .format() for better structure and reuse \n",
    "\n",
    "# === not recommended ===\n",
    "# prompt_template = PromptTemplate(\n",
    "#     input_variables=[\"topic\"],\n",
    "#     template=\"Think about the {topic}. Tell me a joke about the {topic}.\"\n",
    "# )\n",
    "\n",
    "# === recommended ===\n",
    "prompt_template = PromptTemplate.from_template(\"Think about the {topic}. Tell me a joke about the {topic}.\")\n",
    "\n",
    "print(prompt_template, \"\\n\")\n",
    "print(type(prompt_template))\n",
    "\n",
    "# === Ask user for the topic ===\n",
    "topic = input(\"I will tell you a joke about: \")\n",
    "\n",
    "# === Build prompt using LangChain template ===\n",
    "prompt = prompt_template.format(topic=topic)"
   ]
  },
  {
   "cell_type": "code",
   "execution_count": null,
   "id": "c1742517-765e-4ff3-8dd3-01573607f8e0",
   "metadata": {
    "editable": true,
    "scrolled": true,
    "slideshow": {
     "slide_type": ""
    },
    "tags": []
   },
   "outputs": [],
   "source": [
    "# === Define the request body ===\n",
    "data = {\n",
    "    \"model\": \"gpt-4o-mini\",\n",
    "    \"input\": [\n",
    "        {\"role\": \"system\", \"content\": \"You are a standup comedian.\"},\n",
    "        {\"role\": \"user\", \"content\": prompt}\n",
    "    ],\n",
    "}\n",
    "\n",
    "# === Send POST request ===\n",
    "response = requests.post(API_URL, headers=headers, data=json.dumps(data))\n",
    "\n",
    "# === Parse and print the response ===\n",
    "if response.status_code == 200:\n",
    "    result = response.json()\n",
    "    print(result[\"output\"][0][\"content\"][0][\"text\"])\n",
    "    print(json.dumps(result, indent=4))\n",
    "else:\n",
    "    print(f\"Request failed: {response.status_code}\")\n",
    "    print(response.text)"
   ]
  },
  {
   "cell_type": "code",
   "execution_count": null,
   "id": "c56c8d84-d714-443e-ac30-aa59ea3c37b4",
   "metadata": {},
   "outputs": [],
   "source": []
  }
 ],
 "metadata": {
  "kernelspec": {
   "display_name": "Python 3 (ipykernel)",
   "language": "python",
   "name": "python3"
  },
  "language_info": {
   "codemirror_mode": {
    "name": "ipython",
    "version": 3
   },
   "file_extension": ".py",
   "mimetype": "text/x-python",
   "name": "python",
   "nbconvert_exporter": "python",
   "pygments_lexer": "ipython3",
   "version": "3.10.12"
  }
 },
 "nbformat": 4,
 "nbformat_minor": 5
}
